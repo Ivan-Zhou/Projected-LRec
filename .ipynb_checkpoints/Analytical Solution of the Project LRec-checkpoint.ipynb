{
 "cells": [
  {
   "cell_type": "markdown",
   "metadata": {},
   "source": [
    "### Projected LRec\n",
    "#### With Latent Item Matrix\n",
    "$$min_S\\ ||Q-(QV)S||_2 + \\lambda ||S||_2$$ \n",
    "$$=[Q-(QV)S]^T*[Q-(QV)S]+\\lambda S^TS$$\n",
    "$$=Q^TQ-Q^T(QV)S-S^T(QV)^TQ+S^T(QV)^T(QV)S+\\lambda S^TS$$\n",
    "\n",
    "To minimize, we take the partial derivative over $S$: \n",
    "$$\\frac{\\partial}{\\partial S}[Q^TQ-Q^T(QV)S-S^T(QV)^TQ+S^T(QV)^T(QV)S+\\lambda S^TS]=0$$\n",
    "$$-2(QV)^TQ+2(QV)^T(QV)S+2\\lambda S=0$$\n",
    "$$[(QV)^T(QV)+\\lambda I]S=(QV)^TQ$$\n",
    "\n",
    "Finally, we get:\n",
    "$$S=[(QV)^T(QV)+\\lambda I]^{-1}(QV)^TQ$$\n",
    "\n",
    "\n",
    "##### Shape the matrices\n",
    "- $Q: (m,n)$\n",
    "- $V: (n,k)$\n",
    "- $S: (k,n)$\n",
    "\n",
    "\n",
    "#### With Latent User Matrix\n",
    "$$min_S||Q-S(U^TQ)||_2+\\lambda||S||_2$$\n",
    "$$=[Q-S(U^TQ)]^T[Q-S(U^TQ)]+\\lambda S^TS$$\n",
    "$$=Q^TQ-Q^TS(U^TQ)-(U^TQ)^TS^TQ+(U^TQ)^TS^TS(U^TQ)+\\lambda S^TS$$\n",
    "\n",
    "To minimize, we take the partial derivative over $S$:\n",
    "$$\\frac{\\partial}{\\partial S}[Q^TQ-Q^TS(U^TQ)-(U^TQ)^TS^TQ+(U^TQ)^TS^TS(U^TQ)]+\\lambda S^TS=0$$\n",
    "$$-2Q(U^TQ)^T+2S(U^TQ)(U^TQ)^T+2\\lambda S=0$$\n",
    "$$S[(U^TQ)(U^TQ)^T+\\lambda I]=Q(U^TQ)^T$$\n",
    "\n",
    "Finally, we get:\n",
    "$$S=Q(U^TQ)^T[(U^TQ)(U^TQ)^T+\\lambda I]^{-1}$$\n",
    "\n",
    "##### Shape the matrices\n",
    "- $Q: (m,n)$\n",
    "- $U: (m,k)$\n",
    "- $S: (m,k)$\n",
    "\n",
    "#### Reference Matrix Derivative Formula\n",
    "$\\frac{\\partial x^Ta}{\\partial x}=\\frac{\\partial a^Tx}{\\partial x}=a$\n",
    "\n",
    "$\\frac{\\partial a^T Xb}{\\partial X} = ab^T$\n",
    "\n",
    "$\\frac{\\partial a^T X^Tb}{\\partial X} = ba^T$\n",
    "\n",
    "$\\frac{\\partial x^TBx}{\\partial x}=(B+B^T)x$\n",
    "\n",
    "$\\frac{\\partial b^TX^TXc}{\\partial X}=X(bc^T+cb^T)$"
   ]
  },
  {
   "cell_type": "markdown",
   "metadata": {},
   "source": [
    "#### In the original paper, the projected lrec-item is written as:\n",
    "\n",
    "$$\\underset{Y}{argmin}||R-RQ_kY||^2_F + \\lambda||Y||_F^2$$\n",
    "\n",
    "where $R$ is the User-Photo matrix with shape $m \\times n$, $Q_k$ is an orthogonal basis of the row space of $R$ with shape $n \\times k$ ($k \\ll n$), and $Y$ is a latent matrix with shape $k \\times n$ so that the photo-photo similarity can be expressed with $Q_k \\cdot Y$\n",
    "\n",
    "The analytical solution is written as:\n",
    "\n",
    "$$Y=(Q_k^TR^T RQ_k+\\lambda I)^{-1}Q^T_kR^TR$$\n",
    "\n",
    "#### In the original paper, the projected lrec-user is written as:\n",
    "\n",
    "$$\\underset{Y}{argmin}||R-YP_k^TR||^2_F + \\lambda||Y||_F^2$$\n",
    "\n",
    "where $R$ is the User-Photo matrix with shape $m \\times n$, $P_k$ is an orthogonal basis of the row space of $R$ with shape $m \\times k$ ($k \\ll m$), and $Y$ is a latent matrix with shape $m \\times k$ so that the photo-photo similarity can be expressed with $YP_k^T$\n",
    "\n",
    "The analytical solution is written as:\n",
    "\n",
    "$$Y=(Q_k^TR^T RQ_k+\\lambda I)^{-1}Q^T_kR^TR$$\n",
    "$$Y=R(P_k^TR)^T(P_k^TRP_kR^T+\\lambda I)^{-1}$$\n"
   ]
  }
 ],
 "metadata": {
  "kernelspec": {
   "display_name": "Python 3",
   "language": "python",
   "name": "python3"
  },
  "language_info": {
   "codemirror_mode": {
    "name": "ipython",
    "version": 3
   },
   "file_extension": ".py",
   "mimetype": "text/x-python",
   "name": "python",
   "nbconvert_exporter": "python",
   "pygments_lexer": "ipython3",
   "version": "3.6.4"
  }
 },
 "nbformat": 4,
 "nbformat_minor": 2
}
